{
 "cells": [
  {
   "cell_type": "markdown",
   "metadata": {},
   "source": [
    "# Section Review - Coding Skills with Loop\n",
    "\n",
    "---\n",
    "Summary for arithmatic progress\n",
    "---"
   ]
  },
  {
   "cell_type": "code",
   "execution_count": 8,
   "metadata": {},
   "outputs": [
    {
     "name": "stdout",
     "output_type": "stream",
     "text": [
      "705082704\n"
     ]
    }
   ],
   "source": [
    "int sum = 0;\n",
    "\n",
    "for(int i = 1; i <= 100000; i++) sum += i;\n",
    "\n",
    "System.out.println(sum);"
   ]
  },
  {
   "cell_type": "markdown",
   "metadata": {},
   "source": [
    "---\n",
    "Search for Prime numbers\n",
    "---"
   ]
  },
  {
   "cell_type": "code",
   "execution_count": 11,
   "metadata": {},
   "outputs": [
    {
     "name": "stdout",
     "output_type": "stream",
     "text": [
      "true\n"
     ]
    }
   ],
   "source": [
    "int number = 91;\n",
    "\n",
    "boolean foundFactor = false;\n",
    "for(int factor=2; factor<number; factor++) {\n",
    "    if( number % factor == 0 ) {\n",
    "        foundFactor = true;\n",
    "        break;\n",
    "    }\n",
    "}\n",
    "\n",
    "System.out.println(foundFactor);"
   ]
  },
  {
   "cell_type": "code",
   "execution_count": 14,
   "metadata": {},
   "outputs": [
    {
     "name": "stdout",
     "output_type": "stream",
     "text": [
      "2, 3, 5, 7, 11, 13, 17, 19, 23, 29, 31, 37, 41, 43, 47, 53, 59, 61, 67, 71, 73, 79, 83, 89, 97, 101, 103, 107, 109, 113, 127, 131, 137, 139, 149, 151, 157, 163, 167, 173, 179, 181, 191, 193, 197, 199, 211, 223, 227, 229, 233, 239, 241, 251, 257, 263, 269, 271, 277, 281, 283, 293, 307, 311, 313, 317, 331, 337, 347, 349, 353, 359, 367, 373, 379, 383, 389, 397, 401, 409, 419, 421, 431, 433, 439, 443, 449, 457, 461, 463, 467, 479, 487, 491, 499, 503, 509, 521, 523, 541, 547, 557, 563, 569, 571, 577, 587, 593, 599, 601, 607, 613, 617, 619, 631, 641, 643, 647, 653, 659, 661, 673, 677, 683, 691, 701, 709, 719, 727, 733, 739, 743, 751, 757, 761, 769, 773, 787, 797, 809, 811, 821, 823, 827, 829, 839, 853, 857, 859, 863, 877, 881, 883, 887, 907, 911, 919, 929, 937, 941, 947, 953, 967, 971, 977, 983, 991, 997, 1009, 1013, 1019, 1021, 1031, 1033, 1039, 1049, 1051, 1061, 1063, 1069, 1087, 1091, 1093, 1097, 1103, 1109, 1117, 1123, 1129, 1151, 1153, 1163, 1171, 1181, 1187, 1193, 1201, 1213, 1217, 1223, 1229, 1231, 1237, 1249, 1259, 1277, 1279, 1283, 1289, 1291, 1297, 1301, 1303, 1307, 1319, 1321, 1327, 1361, 1367, 1373, 1381, 1399, 1409, 1423, 1427, 1429, 1433, 1439, 1447, 1451, 1453, 1459, 1471, 1481, 1483, 1487, 1489, 1493, 1499, 1511, 1523, 1531, 1543, 1549, 1553, 1559, 1567, 1571, 1579, 1583, 1597, 1601, 1607, 1609, 1613, 1619, 1621, 1627, 1637, 1657, 1663, 1667, 1669, 1693, 1697, 1699, 1709, 1721, 1723, 1733, 1741, 1747, 1753, 1759, 1777, 1783, 1787, 1789, 1801, 1811, 1823, 1831, 1847, 1861, 1867, 1871, 1873, 1877, 1879, 1889, 1901, 1907, 1913, 1931, 1933, 1949, 1951, 1973, 1979, 1987, 1993, 1997, 1999"
     ]
    }
   ],
   "source": [
    "System.out.print(2);\n",
    "\n",
    "for(int i = 3; i < 2000; i += 2) {\n",
    "    boolean foundFactor = false;\n",
    "    for(int f = 3; f < i; f++) {\n",
    "        if (i % f == 0) {\n",
    "            foundFactor = true;\n",
    "            break;\n",
    "        }\n",
    "    }\n",
    "    if (!foundFactor) {\n",
    "        System.out.print(\", \" + i);\n",
    "    }\n",
    "}"
   ]
  },
  {
   "cell_type": "markdown",
   "metadata": {},
   "source": [
    "---\n",
    "Game of Counting (Skip 7)\n",
    "---"
   ]
  },
  {
   "cell_type": "code",
   "execution_count": 15,
   "metadata": {},
   "outputs": [
    {
     "name": "stdout",
     "output_type": "stream",
     "text": [
      "1,2,3,4,5,6,Pass!\n",
      "8,9,10,11,12,13,Pass!\n",
      "15,16,Pass!\n",
      "18,19,20,Pass!\n",
      "22,23,24,25,26,Pass!\n",
      "Pass!\n",
      "29,30,31,32,33,34,Pass!\n",
      "36,Pass!\n",
      "38,39,40,41,Pass!\n",
      "43,44,45,46,Pass!\n",
      "48,Pass!\n",
      "50,51,52,53,54,55,Pass!\n",
      "Pass!\n",
      "58,59,60,61,62,Pass!\n",
      "64,65,66,Pass!\n",
      "68,69,Pass!\n",
      "Pass!\n",
      "Pass!\n",
      "Pass!\n",
      "Pass!\n",
      "Pass!\n",
      "Pass!\n",
      "Pass!\n",
      "Pass!\n",
      "Pass!\n",
      "80,81,82,83,Pass!\n",
      "85,86,Pass!\n",
      "88,89,90,Pass!\n",
      "92,93,94,95,96,Pass!\n",
      "Pass!\n",
      "99,100,"
     ]
    }
   ],
   "source": [
    "for(int i = 1; i <= 100; i++) {\n",
    "    if (i % 7 == 0 || i % 10 == 7 || i / 10 == 7) {\n",
    "        System.out.println(\"Pass!\");\n",
    "    } else {\n",
    "        System.out.print(i + \",\");\n",
    "    }\n",
    "}"
   ]
  },
  {
   "cell_type": "markdown",
   "metadata": {},
   "source": [
    "---\n",
    "Game of Guessing\n",
    "---"
   ]
  },
  {
   "cell_type": "code",
   "execution_count": null,
   "metadata": {},
   "outputs": [],
   "source": [
    "Scanner sc = new Scanner(System.in);\n",
    "int secret = (int) (Math.random()*100);\n",
    "\n",
    "\n",
    "while(true) {\n",
    "    int i = sc.nextInt();\n",
    "    if (i == secret) {\n",
    "        System.out.println(\"Congratulations! You got it!\");\n",
    "        break;\n",
    "    }\n",
    "    if (i > secret)\n",
    "        System.out.println(\"Oops... your number is too big.\");\n",
    "    else\n",
    "        System.out.println(\"Hmm... your number is too small.\");\n",
    "}"
   ]
  }
 ],
 "metadata": {
  "kernelspec": {
   "display_name": "Java",
   "language": "java",
   "name": "java"
  },
  "language_info": {
   "codemirror_mode": "java",
   "file_extension": ".jshell",
   "mimetype": "text/x-java-source",
   "name": "Java",
   "pygments_lexer": "java",
   "version": "14.0.2+12-46"
  }
 },
 "nbformat": 4,
 "nbformat_minor": 4
}
