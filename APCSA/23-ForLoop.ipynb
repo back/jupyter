{
 "cells": [
  {
   "cell_type": "markdown",
   "metadata": {},
   "source": [
    "# For Loop\n",
    "\n",
    "```Java\n",
    "for ( ; ; ) {}\n",
    "```"
   ]
  },
  {
   "cell_type": "code",
   "execution_count": 1,
   "metadata": {},
   "outputs": [
    {
     "name": "stdout",
     "output_type": "stream",
     "text": [
      "Number i is: 0\n",
      "Number i is: 1\n",
      "Number i is: 2\n",
      "Number i is: 3\n",
      "Number i is: 4\n",
      "Number i is: 5\n",
      "Number i is: 6\n",
      "Number i is: 7\n",
      "Number i is: 8\n",
      "Number i is: 9\n"
     ]
    }
   ],
   "source": [
    "for(int i = 0; i < 10; i++) {\n",
    "    \n",
    "    System.out.println(\"Number i is: \" + i);\n",
    "    continue;\n",
    "    ....\n",
    "        ....\n",
    "\n",
    "}"
   ]
  },
  {
   "cell_type": "markdown",
   "metadata": {},
   "source": [
    "---\n",
    "![](https://www.cs.uic.edu/~jbell/CourseNotes/C_Programming/for.jpg)\n",
    "\n",
    "---\n",
    "Remember both these keywords works the same way here:\n",
    "---\n",
    "- **break**\n",
    "- **continue**"
   ]
  },
  {
   "cell_type": "code",
   "execution_count": 21,
   "metadata": {},
   "outputs": [
    {
     "name": "stdout",
     "output_type": "stream",
     "text": [
      "Odd number i is: 17\n",
      "Odd number i is: 11\n"
     ]
    }
   ],
   "source": [
    "for(int i = 20; i > 5; i=i-3) {\n",
    "    if (i % 2 == 0) continue;\n",
    "    System.out.println(\"Odd number i is: \" + i);\n",
    "}"
   ]
  },
  {
   "cell_type": "code",
   "execution_count": 22,
   "metadata": {},
   "outputs": [
    {
     "name": "stdout",
     "output_type": "stream",
     "text": [
      "Number i is: 0\n",
      "Number i is: 1\n",
      "Number i is: 2\n",
      "Number i is: 3\n",
      "Number i is: 4\n",
      "Number i is: 5\n"
     ]
    }
   ],
   "source": [
    "for(int i = 0; i < 100; i++) {\n",
    "    if (i > 5) break;\n",
    "    System.out.println(\"Number i is: \" + i);\n",
    "}"
   ]
  },
  {
   "cell_type": "markdown",
   "metadata": {},
   "source": [
    "---\n",
    "Game of Counting (skip 7)\n",
    "---"
   ]
  },
  {
   "cell_type": "code",
   "execution_count": 15,
   "metadata": {},
   "outputs": [
    {
     "name": "stdout",
     "output_type": "stream",
     "text": [
      "1,2,3,4,5,6,Pass!\n",
      "8,9,10,11,12,13,Pass!\n",
      "15,16,Pass!\n",
      "18,19,20,Pass!\n",
      "22,23,24,25,26,Pass!\n",
      "Pass!\n",
      "29,30,31,32,33,34,Pass!\n",
      "36,Pass!\n",
      "38,39,40,41,Pass!\n",
      "43,44,45,46,Pass!\n",
      "48,Pass!\n",
      "50,"
     ]
    }
   ],
   "source": [
    "for(int i = 1; i <= 50; i++) {\n",
    "    if (i % 7 == 0 || i % 10 == 7 || i / 10 == 7) {\n",
    "        System.out.println(\"Pass!\");\n",
    "    } else {\n",
    "        System.out.print(i + \",\");\n",
    "    }\n",
    "}"
   ]
  },
  {
   "cell_type": "markdown",
   "metadata": {},
   "source": [
    "---\n",
    "Nested Loops\n",
    "---"
   ]
  },
  {
   "cell_type": "code",
   "execution_count": 6,
   "metadata": {},
   "outputs": [
    {
     "name": "stdout",
     "output_type": "stream",
     "text": [
      "##########\n",
      "##########\n",
      "##########\n",
      "##########\n",
      "##########\n"
     ]
    }
   ],
   "source": [
    "for(int i = 0; i < 5; i++) {\n",
    "    for(int j = 0; j < 10; j++) {\n",
    "        System.out.print(\"#\");\n",
    "    }\n",
    "    System.out.println();\n",
    "}"
   ]
  },
  {
   "cell_type": "markdown",
   "metadata": {},
   "source": [
    "---\n",
    "Search for Prime numbers\n",
    "---"
   ]
  },
  {
   "cell_type": "code",
   "execution_count": 18,
   "metadata": {},
   "outputs": [
    {
     "name": "stdout",
     "output_type": "stream",
     "text": [
      "2, 3, 5, 7, 11, 13, 17, 19, 23, 29, 31, 37, 41, 43, 47, 53, 59, 61, 67, 71, 73, 79, 83, 89, 97"
     ]
    }
   ],
   "source": [
    "System.out.print(2);\n",
    "\n",
    "for(int i = 3; i < 100; i += 2) {\n",
    "    boolean foundFactor = false;\n",
    "    for(int f = 3; f < i; f++) {\n",
    "        if (i % f == 0) {\n",
    "            foundFactor = true;\n",
    "            break;\n",
    "        }\n",
    "    }\n",
    "    if (!foundFactor) {\n",
    "        System.out.print(\", \" + i);\n",
    "    }\n",
    "}"
   ]
  },
  {
   "cell_type": "markdown",
   "metadata": {},
   "source": [
    "---\n",
    "Summary for arithmatic progress\n",
    "---"
   ]
  },
  {
   "cell_type": "code",
   "execution_count": 11,
   "metadata": {},
   "outputs": [
    {
     "name": "stdout",
     "output_type": "stream",
     "text": [
      "5050\n"
     ]
    }
   ],
   "source": [
    "int n = 100;\n",
    "int sum = 0;\n",
    "\n",
    "for(int i = 1; i <= n; i++)\n",
    "    sum += i;\n",
    "\n",
    "System.out.println(sum);"
   ]
  },
  {
   "cell_type": "markdown",
   "metadata": {},
   "source": [
    "---\n",
    "Homework\n",
    "---\n",
    "\n",
    "https://practiceit.cs.washington.edu/problem/list\n",
    "- Chapter 2: BJP5 Self-Check 2.21 -> 2.38\n",
    "\n",
    "### Read and Learn\n",
    "http://www.beginwithjava.com/java/loops/questions.html"
   ]
  }
 ],
 "metadata": {
  "kernelspec": {
   "display_name": "Java",
   "language": "java",
   "name": "java"
  },
  "language_info": {
   "codemirror_mode": "java",
   "file_extension": ".jshell",
   "mimetype": "text/x-java-source",
   "name": "Java",
   "pygments_lexer": "java",
   "version": "14.0.2+12-46"
  }
 },
 "nbformat": 4,
 "nbformat_minor": 4
}
