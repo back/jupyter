{
 "cells": [
  {
   "cell_type": "markdown",
   "metadata": {},
   "source": [
    "# Wormhole\n",
    "---\n",
    "A few helper functions\n",
    "---"
   ]
  },
  {
   "cell_type": "code",
   "execution_count": 6,
   "metadata": {},
   "outputs": [],
   "source": [
    "void print(int[] x){\n",
    "    System.out.println(Arrays.toString(x));\n",
    "}\n",
    "\n",
    "int[] swapOne(int[] x, int i, int j) {\n",
    "    int[] work = x.clone();    // Be careful, has to return a \"clone\" copy here!\n",
    "    int tmp = work[i];\n",
    "    work[i] = work[j];\n",
    "    work[j] = tmp;\n",
    "    return work;\n",
    "}"
   ]
  },
  {
   "cell_type": "markdown",
   "metadata": {},
   "source": [
    "---\n",
    "Initialize a wormholes list\n",
    "---\n",
    "- And a test for *swapOne* clone function"
   ]
  },
  {
   "cell_type": "code",
   "execution_count": 4,
   "metadata": {},
   "outputs": [
    {
     "name": "stdout",
     "output_type": "stream",
     "text": [
      "[0, 1, 2, 3, 4, 5]\n",
      "[0, 1, 2, 5, 4, 3]\n"
     ]
    }
   ],
   "source": [
    "int[] wh = new int[6];\n",
    "for(int i=0;i<wh.length;i++)wh[i]=i;\n",
    "print(wh);\n",
    "\n",
    "int[] wh2 = swapOne(wh, 3, 5);\n",
    "print(wh2)"
   ]
  },
  {
   "cell_type": "markdown",
   "metadata": {},
   "source": [
    "---\n",
    "Search for all combinations for pairing up the wormholes\n",
    "---"
   ]
  },
  {
   "cell_type": "code",
   "execution_count": 11,
   "metadata": {},
   "outputs": [
    {
     "name": "stdout",
     "output_type": "stream",
     "text": [
      "[1, 0, 3, 2, 5, 4]\n",
      "[1, 0, 4, 5, 2, 3]\n",
      "[1, 0, 5, 4, 3, 2]\n",
      "[2, 3, 0, 1, 5, 4]\n",
      "[2, 4, 0, 5, 1, 3]\n",
      "[2, 5, 0, 4, 3, 1]\n",
      "[3, 2, 1, 0, 5, 4]\n",
      "[3, 4, 5, 0, 1, 2]\n",
      "[3, 5, 4, 0, 2, 1]\n",
      "[4, 2, 1, 5, 0, 3]\n",
      "[4, 3, 5, 1, 0, 2]\n",
      "[4, 5, 3, 2, 0, 1]\n",
      "[5, 2, 1, 4, 3, 0]\n",
      "[5, 3, 4, 1, 2, 0]\n",
      "[5, 4, 3, 2, 1, 0]\n"
     ]
    }
   ],
   "source": [
    "List<int[]> q = new ArrayList<int[]>();\n",
    "q.add(wh);                                     // This is the first working item\n",
    "\n",
    "boolean keep_working = true;\n",
    "while(keep_working){\n",
    "    int[] head = q.get(0);\n",
    "    keep_working = false;    \n",
    "    for(int i=0;i<head.length-1;i++){\n",
    "        if (head[i]==i) {                            // find first unswapped item\n",
    "            for(int j=i+1;j<head.length;j++){\n",
    "                if (head[j]==j) {                    // find all other unswapped items\n",
    "                    q.add(swapOne(head, i, j));\n",
    "                    keep_working = true;\n",
    "                }\n",
    "            }\n",
    "            break;                             // Done all swaps for item[i]\n",
    "        }\n",
    "    }\n",
    "    if (keep_working) q.remove(0);             // Remove the head working item\n",
    "}\n",
    "\n",
    "for(int[] work: q)\n",
    "    print(work)"
   ]
  }
 ],
 "metadata": {
  "kernelspec": {
   "display_name": "Java",
   "language": "java",
   "name": "java"
  },
  "language_info": {
   "codemirror_mode": "java",
   "file_extension": ".jshell",
   "mimetype": "text/x-java-source",
   "name": "Java",
   "pygments_lexer": "java",
   "version": "14.0.2+12-46"
  }
 },
 "nbformat": 4,
 "nbformat_minor": 4
}
