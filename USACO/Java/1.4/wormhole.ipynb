{
 "cells": [
  {
   "cell_type": "markdown",
   "metadata": {},
   "source": [
    "# Section 1.4 - Wormhole\n",
    "---\n",
    "A few helper functions\n",
    "---"
   ]
  },
  {
   "cell_type": "code",
   "execution_count": 19,
   "metadata": {},
   "outputs": [],
   "source": [
    "void print(int[] x){\n",
    "    System.out.println(Arrays.toString(x));\n",
    "}\n",
    "\n",
    "void swap(int[] x, int a, int b){\n",
    "    int t = x[a]; x[a] = x[b]; x[b] = t;\n",
    "}"
   ]
  },
  {
   "cell_type": "markdown",
   "metadata": {},
   "source": [
    "---\n",
    "Initialize a wormholes list\n",
    "---\n",
    "- And a test for *swapOne* clone function"
   ]
  },
  {
   "cell_type": "code",
   "execution_count": 30,
   "metadata": {},
   "outputs": [
    {
     "name": "stdout",
     "output_type": "stream",
     "text": [
      "[0, 1, 2, 3, 4, 5]\n"
     ]
    }
   ],
   "source": [
    "int[] wh = new int[6];\n",
    "for(int i=0;i<wh.length;i++)wh[i]=i;\n",
    "print(wh);"
   ]
  },
  {
   "cell_type": "markdown",
   "metadata": {},
   "source": [
    "---\n",
    "Search for all combinations for pairing up the wormholes\n",
    "---"
   ]
  },
  {
   "cell_type": "code",
   "execution_count": 31,
   "metadata": {},
   "outputs": [
    {
     "name": "stdout",
     "output_type": "stream",
     "text": [
      "[1, 0, 3, 2, 5, 4]\n",
      "[1, 0, 4, 5, 2, 3]\n",
      "[1, 0, 5, 4, 3, 2]\n",
      "[2, 3, 0, 1, 5, 4]\n",
      "[2, 4, 0, 5, 1, 3]\n",
      "[2, 5, 0, 4, 3, 1]\n",
      "[3, 2, 1, 0, 5, 4]\n",
      "[3, 4, 5, 0, 1, 2]\n",
      "[3, 5, 4, 0, 2, 1]\n",
      "[4, 2, 1, 5, 0, 3]\n",
      "[4, 3, 5, 1, 0, 2]\n",
      "[4, 5, 3, 2, 0, 1]\n",
      "[5, 2, 1, 4, 3, 0]\n",
      "[5, 3, 4, 1, 2, 0]\n",
      "[5, 4, 3, 2, 1, 0]\n"
     ]
    }
   ],
   "source": [
    "List<int[]> q = new ArrayList<int[]>();\n",
    "q.add(wh);                                     // Our the first working item\n",
    "\n",
    "boolean keep_working = true;\n",
    "while(keep_working){\n",
    "    int[] head = q.get(0);\n",
    "    keep_working = false;    \n",
    "    for(int i=0;i<head.length-1;i++){\n",
    "        if (head[i]==i) {                      // find first unswapped item\n",
    "            for(int j=i+1;j<head.length;j++){\n",
    "                if (head[j]==j) {              // find all other unswapped items\n",
    "                    int[] work = head.clone(); // create a \"clone\" copy\n",
    "                    work[i]=j; work[j]=i;      // swap the appointed 2 elements\n",
    "                    q.add(work);               // add swapped results to working queue\n",
    "                    keep_working = true;       // new working items found, keep working\n",
    "                }\n",
    "            }\n",
    "            break;                             // Done all swaps for item[i]\n",
    "        }\n",
    "    }\n",
    "    if (keep_working) q.remove(0);             // Remove the head working item\n",
    "}\n",
    "\n",
    "for(int[] work: q) print(work)"
   ]
  },
  {
   "cell_type": "markdown",
   "metadata": {},
   "source": [
    "---\n",
    "Recursive Method to find all pairing combinations\n",
    "---"
   ]
  },
  {
   "cell_type": "code",
   "execution_count": 29,
   "metadata": {},
   "outputs": [
    {
     "name": "stdout",
     "output_type": "stream",
     "text": [
      "[1, 0, 3, 2, 5, 4]\n",
      "[1, 0, 4, 5, 2, 3]\n",
      "[1, 0, 5, 4, 3, 2]\n",
      "[2, 3, 0, 1, 5, 4]\n",
      "[2, 4, 0, 5, 1, 3]\n",
      "[2, 5, 0, 4, 3, 1]\n",
      "[3, 2, 1, 0, 5, 4]\n",
      "[3, 4, 5, 0, 1, 2]\n",
      "[3, 5, 4, 0, 2, 1]\n",
      "[4, 2, 1, 5, 0, 3]\n",
      "[4, 3, 5, 1, 0, 2]\n",
      "[4, 5, 3, 2, 0, 1]\n",
      "[5, 2, 1, 4, 3, 0]\n",
      "[5, 3, 4, 1, 2, 0]\n",
      "[5, 4, 3, 2, 1, 0]\n"
     ]
    }
   ],
   "source": [
    "void search(int start) {\n",
    "    boolean changed = false;\n",
    "    for (int i = start; i < wh.length; i++) {\n",
    "        if(wh[i]==i) {\n",
    "            for (int j = i + 1; j < wh.length; j++) {\n",
    "                if (wh[j] == j) {\n",
    "                    changed = true;\n",
    "                    wh[i] = j;\n",
    "                    wh[j] = i;\n",
    "                    search(i + 1);\n",
    "                    wh[i] = i;\n",
    "                    wh[j] = j;\n",
    "                }\n",
    "            }\n",
    "            break;\n",
    "        }\n",
    "    }\n",
    "    if (!changed)print(wh);\n",
    "}\n",
    "\n",
    "search(0);"
   ]
  }
 ],
 "metadata": {
  "kernelspec": {
   "display_name": "Java",
   "language": "java",
   "name": "java"
  },
  "language_info": {
   "codemirror_mode": "java",
   "file_extension": ".jshell",
   "mimetype": "text/x-java-source",
   "name": "Java",
   "pygments_lexer": "java",
   "version": "14.0.2+12-46"
  }
 },
 "nbformat": 4,
 "nbformat_minor": 4
}
