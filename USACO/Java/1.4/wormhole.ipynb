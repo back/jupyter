{
 "cells": [
  {
   "cell_type": "markdown",
   "metadata": {},
   "source": [
    "# Wormhole\n",
    "---\n",
    "Helper functions\n",
    "---"
   ]
  },
  {
   "cell_type": "code",
   "execution_count": 1,
   "metadata": {},
   "outputs": [],
   "source": [
    "void print(int[] x){\n",
    "    System.out.println(Arrays.toString(x));\n",
    "}\n",
    "\n",
    "int[] swapOne(int[] x, int i, int j) {\n",
    "    int[] work = x.clone();    // Be \n",
    "    int tmp = work[i];\n",
    "    work[i] = work[j];\n",
    "    work[j] = tmp;\n",
    "    return work;\n",
    "}"
   ]
  },
  {
   "cell_type": "markdown",
   "metadata": {},
   "source": [
    "---\n",
    "Initialize a simple list\n",
    "---"
   ]
  },
  {
   "cell_type": "code",
   "execution_count": 4,
   "metadata": {},
   "outputs": [
    {
     "name": "stdout",
     "output_type": "stream",
     "text": [
      "[0, 1, 2, 3, 4, 5]\n",
      "[0, 1, 2, 5, 4, 3]\n"
     ]
    }
   ],
   "source": [
    "int[] wh = new int[6];\n",
    "for(int i=0;i<wh.length;i++)wh[i]=i;\n",
    "print(wh);\n",
    "\n",
    "int[] wh2 = swapOne(wh, 3, 5);\n",
    "print(wh2)"
   ]
  },
  {
   "cell_type": "markdown",
   "metadata": {},
   "source": [
    "---\n",
    "Search for all combinations for pairing\n",
    "---"
   ]
  },
  {
   "cell_type": "code",
   "execution_count": 5,
   "metadata": {},
   "outputs": [
    {
     "name": "stdout",
     "output_type": "stream",
     "text": [
      "[1, 0, 3, 2, 5, 4]\n",
      "[1, 0, 4, 5, 2, 3]\n",
      "[1, 0, 5, 4, 3, 2]\n",
      "[2, 3, 0, 1, 5, 4]\n",
      "[2, 4, 0, 5, 1, 3]\n",
      "[2, 5, 0, 4, 3, 1]\n",
      "[3, 2, 1, 0, 5, 4]\n",
      "[3, 4, 5, 0, 1, 2]\n",
      "[3, 5, 4, 0, 2, 1]\n",
      "[4, 2, 1, 5, 0, 3]\n",
      "[4, 3, 5, 1, 0, 2]\n",
      "[4, 5, 3, 2, 0, 1]\n",
      "[5, 2, 1, 4, 3, 0]\n",
      "[5, 3, 4, 1, 2, 0]\n",
      "[5, 4, 3, 2, 1, 0]\n"
     ]
    }
   ],
   "source": [
    "List<Object> q = new ArrayList<Object>();\n",
    "q.add(wh);\n",
    "\n",
    "boolean keep_working = true;\n",
    "while(keep_working){\n",
    "    int[] head = (int[])q.get(0);\n",
    "    keep_working = false;    \n",
    "    for(int i=0;i<head.length-1;i++){\n",
    "        if (head[i]==i) {\n",
    "            for(int j=i+1;j<head.length;j++){\n",
    "                if (head[j]==j) {\n",
    "                    q.add(swapOne(head, i, j));\n",
    "                    keep_working = true;\n",
    "                }\n",
    "            }\n",
    "            break;\n",
    "        }\n",
    "    }\n",
    "    if (keep_working) q.remove(0);\n",
    "}\n",
    "\n",
    "for(Object work: q)\n",
    "    print((int[])work)"
   ]
  }
 ],
 "metadata": {
  "kernelspec": {
   "display_name": "Java",
   "language": "java",
   "name": "java"
  },
  "language_info": {
   "codemirror_mode": "java",
   "file_extension": ".jshell",
   "mimetype": "text/x-java-source",
   "name": "Java",
   "pygments_lexer": "java",
   "version": "14.0.2+12-46"
  }
 },
 "nbformat": 4,
 "nbformat_minor": 4
}
