{
 "cells": [
  {
   "cell_type": "markdown",
   "metadata": {},
   "source": [
    "# Section 2.4 - Fractions to Decimals\n",
    "---\n",
    "Sample Inputs\n",
    "---\n",
    "Remember the \"long division\" task in early of this term?\n",
    "- Which asks for the 50th pricision of **1/49**?\n",
    "\n",
    "Now it's time to do a bit more works..."
   ]
  },
  {
   "cell_type": "code",
   "execution_count": 20,
   "metadata": {},
   "outputs": [],
   "source": [
    "n, d = 45, 56"
   ]
  },
  {
   "cell_type": "markdown",
   "metadata": {},
   "source": [
    "---\n",
    "Prepare answer data\n",
    "---"
   ]
  },
  {
   "cell_type": "code",
   "execution_count": 21,
   "metadata": {},
   "outputs": [
    {
     "name": "stdout",
     "output_type": "stream",
     "text": [
      "[0, 0, 0, 0, 0, 0, 0, 0, 0, 0, 0, 0, 0, 0, 0, 0, 0, 0, 0, 0, 0, 0, 0, 0, 0, 0, 0, 0, 0, 0, 0, 0, 0, 0, 0, 0, 0, 0, 0, 0, 0, 0, 0, 0, 0, 0, 0, 0, 0]\n",
      "0.\n"
     ]
    }
   ],
   "source": [
    "remainders = [0] * d\n",
    "answer = str(n//d) + '.'\n",
    "\n",
    "print (remainders)\n",
    "print (answer)"
   ]
  },
  {
   "cell_type": "markdown",
   "metadata": {},
   "source": [
    "---\n",
    "First remainder\n",
    "---"
   ]
  },
  {
   "cell_type": "code",
   "execution_count": 22,
   "metadata": {},
   "outputs": [
    {
     "name": "stdout",
     "output_type": "stream",
     "text": [
      "[0, 2, 0, 0, 0, 0, 0, 0, 0, 0, 0, 0, 0, 0, 0, 0, 0, 0, 0, 0, 0, 0, 0, 0, 0, 0, 0, 0, 0, 0, 0, 0, 0, 0, 0, 0, 0, 0, 0, 0, 0, 0, 0, 0, 0, 0, 0, 0, 0]\n",
      "0.\n"
     ]
    }
   ],
   "source": [
    "n -= n//d * d    # the first remainder\n",
    "remainders[n]=len(answer) # this remainder(45) appears at answer string pos(2), so remainders[45]=2 \n",
    "\n",
    "print(remainders)\n",
    "print(answer)"
   ]
  },
  {
   "cell_type": "code",
   "execution_count": 23,
   "metadata": {},
   "outputs": [
    {
     "name": "stdout",
     "output_type": "stream",
     "text": [
      "0.(020408163265306122448979591836734693877551)\n"
     ]
    }
   ],
   "source": [
    "while n:\n",
    "    n *= 10\n",
    "    m = n//d\n",
    "    answer += str(m)\n",
    "    n -= m * d  # new remainder\n",
    "    if n:\n",
    "        if remainders[n]:\n",
    "            answer = answer[:remainders[n]] + '(' + answer[remainders[n]:] + ')'\n",
    "            break\n",
    "        remainders[n]=len(answer)\n",
    "    else:\n",
    "        break\n",
    "        \n",
    "print(answer)"
   ]
  },
  {
   "cell_type": "markdown",
   "metadata": {},
   "source": [
    "---\n",
    "Write the Answer in given format\n",
    "---"
   ]
  },
  {
   "cell_type": "code",
   "execution_count": 24,
   "metadata": {},
   "outputs": [
    {
     "name": "stdout",
     "output_type": "stream",
     "text": [
      "0.(020408163265306122448979591836734693877551)\n"
     ]
    }
   ],
   "source": [
    "length = 76\n",
    "for i in range(0, len(answer), length):\n",
    "    print(answer[0+i : length+i])"
   ]
  },
  {
   "cell_type": "code",
   "execution_count": 19,
   "metadata": {},
   "outputs": [
    {
     "name": "stdout",
     "output_type": "stream",
     "text": [
      "0.02040816326530612\n"
     ]
    }
   ],
   "source": [
    "print(1/49)"
   ]
  }
 ],
 "metadata": {
  "kernelspec": {
   "display_name": "Python 3",
   "language": "python",
   "name": "python3"
  },
  "language_info": {
   "codemirror_mode": {
    "name": "ipython",
    "version": 3
   },
   "file_extension": ".py",
   "mimetype": "text/x-python",
   "name": "python",
   "nbconvert_exporter": "python",
   "pygments_lexer": "ipython3",
   "version": "3.8.3"
  }
 },
 "nbformat": 4,
 "nbformat_minor": 4
}
