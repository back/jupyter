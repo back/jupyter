{
 "cells": [
  {
   "cell_type": "markdown",
   "metadata": {},
   "source": [
    "# Section 2.3 - Zero Sum\n",
    "---\n",
    "Read Inputs"
   ]
  },
  {
   "cell_type": "code",
   "execution_count": 2,
   "metadata": {},
   "outputs": [],
   "source": [
    "n=7"
   ]
  },
  {
   "cell_type": "markdown",
   "metadata": {},
   "source": [
    "---\n",
    "Prepare all possible combinations of operators\n",
    "---"
   ]
  },
  {
   "cell_type": "code",
   "execution_count": 8,
   "metadata": {},
   "outputs": [],
   "source": [
    "p = (' ', '+', '-')\n",
    "ops = ['']\n",
    "while len(ops[0]) < n-1:\n",
    "    x = ops.pop(0)\n",
    "    ops.extend(x+i for i in p)\n",
    "    \n",
    "#print(ops)"
   ]
  },
  {
   "cell_type": "markdown",
   "metadata": {},
   "source": [
    "---\n",
    "Now insert the number to verify the results\n",
    "---"
   ]
  },
  {
   "cell_type": "code",
   "execution_count": 3,
   "metadata": {},
   "outputs": [
    {
     "name": "stdout",
     "output_type": "stream",
     "text": [
      "1+2-3+4-5-6+7\n",
      "\n",
      "1+2-3-4+5+6-7\n",
      "\n",
      "1-2 3+4+5+6+7\n",
      "\n",
      "1-2 3-4 5+6 7\n",
      "\n",
      "1-2+3+4-5+6-7\n",
      "\n",
      "1-2-3-4-5+6+7\n",
      "\n"
     ]
    }
   ],
   "source": [
    "for op in ops:\n",
    "    res = [0, 1]\n",
    "    for i in range(1,n):\n",
    "        # 1234, +-+\n",
    "        if op[i-1] == ' ':\n",
    "            res[1] *= 10\n",
    "            if res[1] > 0:\n",
    "                res[1] += i+1\n",
    "            else:\n",
    "                res[1] -= i+1\n",
    "        else:\n",
    "            res[0] += res[1]\n",
    "            if op[i-1] == '+':\n",
    "                res[1] = i+1\n",
    "            if op[i-1] == '-':\n",
    "                res[1] = -i-1\n",
    "    if res[0]+res[1] == 0:\n",
    "        s = '1'\n",
    "        for i in range(1,n):\n",
    "            s += str(op[i-1]) + str(i+1)\n",
    "        print(s + '\\n')"
   ]
  }
 ],
 "metadata": {
  "kernelspec": {
   "display_name": "Python 3",
   "language": "python",
   "name": "python3"
  },
  "language_info": {
   "codemirror_mode": {
    "name": "ipython",
    "version": 3
   },
   "file_extension": ".py",
   "mimetype": "text/x-python",
   "name": "python",
   "nbconvert_exporter": "python",
   "pygments_lexer": "ipython3",
   "version": "3.8.3"
  }
 },
 "nbformat": 4,
 "nbformat_minor": 4
}
