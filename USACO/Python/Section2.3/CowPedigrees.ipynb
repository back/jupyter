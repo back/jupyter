{
 "cells": [
  {
   "cell_type": "markdown",
   "metadata": {},
   "source": [
    "# Section 2.3 - Cow Pedigrees\n",
    "---\n",
    "Full Test Cases\n",
    "\n",
    "    5 3\n",
    "    9 4\n",
    "    35 7\n",
    "    15 4\n",
    "    75 47\n",
    "    99 15\n",
    "    172 44\n",
    "    165 65\n",
    "    177 57\n",
    "    198 56\n",
    "    199 99\n",
    "    199 77"
   ]
  },
  {
   "cell_type": "code",
   "execution_count": 10,
   "metadata": {},
   "outputs": [],
   "source": [
    "n, k = 5, 3"
   ]
  },
  {
   "cell_type": "markdown",
   "metadata": {},
   "source": [
    "---\n",
    "Define a Recursive method\n",
    "---"
   ]
  },
  {
   "cell_type": "code",
   "execution_count": 12,
   "metadata": {},
   "outputs": [],
   "source": [
    "import functools\n",
    "\n",
    "@functools.lru_cache(maxsize=None)\n",
    "def rec(n, k):\n",
    "\n",
    "    # n: node, k: height\n",
    "    if k == 1:\n",
    "        return 1 if n == 1 else 0\n",
    "    if k == 2:\n",
    "        return 1 if n == 3 else 0\n",
    "\n",
    "    sum = 0\n",
    "    for leftNodes in range(1, n-1, 2):\n",
    "        left = rec(leftNodes, k-1) # must have height K-1\n",
    "        if left > 0:\n",
    "            for rightLevel in range(k-1, 0, -1):\n",
    "                right = rec(n-leftNodes-1, rightLevel)\n",
    "                if right > 0:\n",
    "                    comb = left * right\n",
    "                    if k-1 > rightLevel:\n",
    "                        comb += comb\n",
    "                    sum += comb\n",
    "    return sum"
   ]
  },
  {
   "cell_type": "code",
   "execution_count": 13,
   "metadata": {},
   "outputs": [
    {
     "name": "stdout",
     "output_type": "stream",
     "text": [
      "2365\n"
     ]
    }
   ],
   "source": [
    "print(rec(99, 15) % 9901)"
   ]
  }
 ],
 "metadata": {
  "kernelspec": {
   "display_name": "Python 3",
   "language": "python",
   "name": "python3"
  },
  "language_info": {
   "codemirror_mode": {
    "name": "ipython",
    "version": 3
   },
   "file_extension": ".py",
   "mimetype": "text/x-python",
   "name": "python",
   "nbconvert_exporter": "python",
   "pygments_lexer": "ipython3",
   "version": "3.8.3"
  }
 },
 "nbformat": 4,
 "nbformat_minor": 4
}
