{
 "cells": [
  {
   "cell_type": "markdown",
   "metadata": {},
   "source": [
    "# Section 2.2 - Preface Numbering\n",
    "\n",
    "---\n",
    "Roman Number system\n",
    "---"
   ]
  },
  {
   "cell_type": "code",
   "execution_count": 2,
   "metadata": {},
   "outputs": [],
   "source": [
    "chunk = [1000,900,500, 400,100, 90, 50,  40,  10,  9,  5,   4,  1]\n",
    "roman = ['M','CM','D','CD','C','XC','L','XL','X','IX','V','IV','I']"
   ]
  },
  {
   "cell_type": "markdown",
   "metadata": {},
   "source": [
    "---\n",
    "Convert a given number Roman format\n",
    "---"
   ]
  },
  {
   "cell_type": "code",
   "execution_count": 7,
   "metadata": {},
   "outputs": [
    {
     "name": "stdout",
     "output_type": "stream",
     "text": [
      "CMLXXVI"
     ]
    }
   ],
   "source": [
    "num = 976\n",
    "for c,r in zip(chunk, roman):\n",
    "    while num >= c:\n",
    "        num -= c\n",
    "        print(r, end='')        "
   ]
  },
  {
   "cell_type": "markdown",
   "metadata": {},
   "source": [
    "---\n",
    "Counting occurance of each letter\n",
    "---"
   ]
  },
  {
   "cell_type": "code",
   "execution_count": 16,
   "metadata": {},
   "outputs": [
    {
     "name": "stdout",
     "output_type": "stream",
     "text": [
      "1 \t-> I\n",
      "2 \t-> II\n",
      "3 \t-> III\n",
      "4 \t-> IV\n",
      "5 \t-> V\n"
     ]
    }
   ],
   "source": [
    "answer = {'I':0,'V':0,'X':0,'L':0,'C':0,'D':0,'M':0}\n",
    "\n",
    "for i in range(1,6):\n",
    "    num = i\n",
    "    print(i, '\\t-> ', end='')\n",
    "    for c,r in zip(chunk, roman):\n",
    "        while num >= c:\n",
    "            num -= c\n",
    "            print(r, end='')\n",
    "            for key in r:\n",
    "                answer[key] += 1\n",
    "    print()"
   ]
  },
  {
   "cell_type": "markdown",
   "metadata": {},
   "source": [
    "---\n",
    "Output the final Answer\n",
    "---\n",
    "- Just filter out the Zero entries"
   ]
  },
  {
   "cell_type": "code",
   "execution_count": 17,
   "metadata": {},
   "outputs": [
    {
     "name": "stdout",
     "output_type": "stream",
     "text": [
      "I 7\n",
      "V 2\n"
     ]
    }
   ],
   "source": [
    "for k in answer:\n",
    "    if answer.get(k):\n",
    "        print(k, answer[k])"
   ]
  }
 ],
 "metadata": {
  "kernelspec": {
   "display_name": "Python 3",
   "language": "python",
   "name": "python3"
  },
  "language_info": {
   "codemirror_mode": {
    "name": "ipython",
    "version": 3
   },
   "file_extension": ".py",
   "mimetype": "text/x-python",
   "name": "python",
   "nbconvert_exporter": "python",
   "pygments_lexer": "ipython3",
   "version": "3.8.3"
  }
 },
 "nbformat": 4,
 "nbformat_minor": 4
}
