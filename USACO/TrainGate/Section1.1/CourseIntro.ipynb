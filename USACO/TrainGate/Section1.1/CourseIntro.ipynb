{
 "cells": [
  {
   "cell_type": "markdown",
   "metadata": {},
   "source": [
    "USA Team site\n",
    "---\n",
    "- [USACO](http://usaco.org)\n",
    "  - [Contests](http://usaco.org/index.php?page=contests)\n",
    "    - On-Line Contests\n",
    "    - The Road to the IOI Team\n",
    "  - [Resources](http://usaco.org/index.php?page=resources)\n",
    "    - Books about **Competitive Programming**\n",
    "    \n",
    "    \n",
    "Note: pay attention to the challenge schedule on the front page!\n",
    "\n",
    "International Olympiad in Informatics\n",
    "---\n",
    "- [IOI](https://ioinformatics.org/)\n",
    "- [Wiki](https://en.wikipedia.org/wiki/International_Olympiad_in_Informatics)\n",
    "\n",
    "International Collegiate Programming Contest\n",
    "---\n",
    "- [ICPC](https://icpc.global/)\n",
    "\n",
    "\n",
    "USACO Training Gateway\n",
    "---\n",
    "https://train.usaco.org/\n",
    "- All submission must have a comment block with following contents\n",
    " - LANG:\n",
    " - TASK:\n",
    "\n",
    "### Submission\n",
    "#### Please be noted that these lines should not contain any other characters, including '*'\n",
    "\n",
    "- All input/output files are named exactly after TASK keyword:\n",
    " - **\\<task name\\>.in**\n",
    " - **\\<task name\\>.out**\n",
    "- For output file, must have a '\\\\n' at the last line\n",
    "\n",
    "#### Special notes for Java programmer:\n",
    "- USACO does not expect any \"package\" line on top of your main class. So you have to drop it.\n",
    "\n",
    "File I/O\n",
    "---\n",
    "\n",
    "#### Java\n",
    "```java\n",
    "Scanner sc = new Scanner(new File(\"test.in\"));\n",
    "int x = sc.nextInt();\n",
    "int y = sc.nextInt();\n",
    "\n",
    "FileWriter fw = new FileWriter(\"test.out\");\n",
    "fw.write( (x+y) + \"\\n\" );\n",
    "fw.close();\n",
    "```\n",
    "\n",
    "#### Python\n",
    "```python\n",
    "fin = open('prob.in') \n",
    "lst = fin.readlines()\n",
    "\n",
    "with open('prob.out', 'w') as fout:\n",
    "    fout.write( '%s\\n' % answer )\n",
    "```\n",
    "\n",
    "#### C++\n",
    "```cpp\n",
    "ifstream fin (\"test.in\");\n",
    "int a, b;\n",
    "fin >> a >> b;\n",
    "\n",
    "ofstream fout (\"test.out\");\n",
    "fout << a+b << endl;\n",
    "```"
   ]
  },
  {
   "cell_type": "markdown",
   "metadata": {},
   "source": [
    "# Grading Progress\n",
    "- The first task (Welcome to the class) will be scored 1/5 for everyone.\n",
    "- Every other tasks will be scored 1/1 for entire class.\n",
    "- The formula of the grade upon completed tasks would be: $\\frac{x}{x+4}100\\%$"
   ]
  },
  {
   "cell_type": "code",
   "execution_count": 1,
   "metadata": {},
   "outputs": [],
   "source": [
    "%matplotlib inline\n",
    "import matplotlib.pyplot as plt\n",
    "plt.rcParams[\"figure.figsize\"]=(15,5)"
   ]
  },
  {
   "cell_type": "code",
   "execution_count": 2,
   "metadata": {},
   "outputs": [
    {
     "data": {
      "image/png": "[encoded data removed]",
      "text/plain": [
       "<Figure size 1080x360 with 1 Axes>"
      ]
     },
     "metadata": {
      "needs_background": "light"
     },
     "output_type": "display_data"
    }
   ],
   "source": [
    "x = list(range(101))\n",
    "y = [100*i/(i+4) for i in x]\n",
    "plt.ylim(0, 100)\n",
    "plt.plot(x, y)\n",
    "plt.title('Grading on Tasks')\n",
    "plt.grid()\n",
    "plt.show()"
   ]
  },
  {
   "cell_type": "markdown",
   "metadata": {},
   "source": [
    "Progress Together\n",
    "---\n",
    "I'll try following the **average speed**\n",
    "- Your turn-in rates determine overall progress\n",
    "- Do not share the complete answer for USACO challenges\n",
    "\n",
    "Reference Data\n",
    "---\n",
    "![](https://upload.wikimedia.org/wikipedia/commons/d/dd/ASCII-Table.svg)"
   ]
  }
 ],
 "metadata": {
  "kernelspec": {
   "display_name": "Python 3",
   "language": "python",
   "name": "python3"
  },
  "language_info": {
   "codemirror_mode": {
    "name": "ipython",
    "version": 3
   },
   "file_extension": ".py",
   "mimetype": "text/x-python",
   "name": "python",
   "nbconvert_exporter": "python",
   "pygments_lexer": "ipython3",
   "version": "3.8.3"
  }
 },
 "nbformat": 4,
 "nbformat_minor": 4
}
