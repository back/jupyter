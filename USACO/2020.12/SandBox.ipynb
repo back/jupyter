{
 "cells": [
  {
   "cell_type": "markdown",
   "metadata": {},
   "source": [
    "# Sand Box"
   ]
  },
  {
   "cell_type": "code",
   "execution_count": 25,
   "metadata": {},
   "outputs": [
    {
     "name": "stdout",
     "output_type": "stream",
     "text": [
      "w ['-hellohello', 'orld-'] -hellohelloorld-\n",
      "r ['-hellohelloo', 'ld-'] -hellohelloold-\n",
      "o ['-hell', 'hell', 'ld-'] -hellhellld-\n",
      "l ['-he', 'he', 'd-'] -hehed-\n",
      "h ['-', 'e', 'ed-'] -eed-\n",
      "e ['-', 'd-'] -d-\n",
      "d ['-', '-'] -d-\n"
     ]
    }
   ],
   "source": [
    "s='hellohelloworld'\n",
    "a=set(s)\n",
    "b=sorted(a)\n",
    "s=\"-\"+s+'-'\n",
    "\n",
    "while b:\n",
    "    c=b.pop()\n",
    "    sp = [i for i in s.split(c) if i]\n",
    "    if b:\n",
    "        s = s.replace(c, '')\n",
    "    print(c,sp, s)\n"
   ]
  },
  {
   "cell_type": "code",
   "execution_count": 15,
   "metadata": {},
   "outputs": [
    {
     "data": {
      "text/plain": [
       "'hexxo'"
      ]
     },
     "execution_count": 15,
     "metadata": {},
     "output_type": "execute_result"
    }
   ],
   "source": [
    "'hello'.replace('l', 'x')"
   ]
  }
 ],
 "metadata": {
  "kernelspec": {
   "display_name": "Python 3",
   "language": "python",
   "name": "python3"
  },
  "language_info": {
   "codemirror_mode": {
    "name": "ipython",
    "version": 3
   },
   "file_extension": ".py",
   "mimetype": "text/x-python",
   "name": "python",
   "nbconvert_exporter": "python",
   "pygments_lexer": "ipython3",
   "version": "3.8.3"
  }
 },
 "nbformat": 4,
 "nbformat_minor": 4
}
